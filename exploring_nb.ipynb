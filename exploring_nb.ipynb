{
 "cells": [
  {
   "cell_type": "markdown",
   "metadata": {},
   "source": [
    "# Explorations: Tracking wager tickets app"
   ]
  },
  {
   "cell_type": "code",
   "execution_count": 9,
   "metadata": {},
   "outputs": [],
   "source": [
    "import re"
   ]
  },
  {
   "cell_type": "code",
   "execution_count": 2,
   "metadata": {},
   "outputs": [],
   "source": [
    "from PIL import Image\n",
    "import pytesseract\n",
    "from config import *"
   ]
  },
  {
   "cell_type": "code",
   "execution_count": 3,
   "metadata": {},
   "outputs": [],
   "source": [
    "fname = TEST_IMG\n",
    "\n",
    "def ocr_core(filename):\n",
    "    text = pytesseract.image_to_string(Image.open(filename))\n",
    "    return text"
   ]
  },
  {
   "cell_type": "code",
   "execution_count": 4,
   "metadata": {},
   "outputs": [],
   "source": [
    "result = ocr_core(fname)"
   ]
  },
  {
   "cell_type": "code",
   "execution_count": 5,
   "metadata": {},
   "outputs": [
    {
     "data": {
      "text/plain": [
       "909"
      ]
     },
     "execution_count": 5,
     "metadata": {},
     "output_type": "execute_result"
    }
   ],
   "source": [
    "# len(result)"
   ]
  },
  {
   "cell_type": "code",
   "execution_count": 6,
   "metadata": {},
   "outputs": [
    {
     "name": "stdout",
     "output_type": "stream",
     "text": [
      "1x$7.00 Parlay\n",
      "Max Payout: $ $49.00\n",
      "\n",
      "1 Arizona Cardinals +3.5 Spread pore ae\n",
      "Carolina Panthers At Arizona Cafdinals Sep 22, 2019 16:05 eis hoe\n",
      "\n",
      "2 435 New York Giants +11.5 Spread\n",
      "New York Giants At Tampa Bay Sep 22, 2019 16:05\n",
      "Buécaneers\n",
      "3° Houston Texans +9.5 Spread\n",
      "Houston Texans At Los Angeles|Chargers © Sep 22, 2019 16:25\n",
      "4° Pittsburgh Steelers +12.5 Spread\n",
      "Pittsburgh Steelers At San Fraqpisco 49ers Sep 22, 2019 16:30\n",
      "5 Los Angeles Rams +2\\5 Spread\n",
      "Los Angeles Rams At ClevelandjBrowns Sep 22, 2019 20:20\n",
      "6 Chicago Bears +2 Spread\n",
      "Chicago Bears At Washington Aedskins Sep 23, 2019 20:15 \n",
      " \n",
      "\n",
      "Ticket Gost $7.00\n",
      "\n",
      "BBNMRO011 Sep 22, 2019 15:30\n",
      "Please check your tickets before you leave the window.\n",
      "\n",
      "All wafers are final.\n",
      "All tickets expirg one year after the event\n"
     ]
    }
   ],
   "source": [
    "print(result[56:650], result[-225:-52])"
   ]
  },
  {
   "cell_type": "code",
   "execution_count": 11,
   "metadata": {},
   "outputs": [],
   "source": [
    "# test_txt = repr(result[56:650])\n",
    "test_txt = result[56:650]"
   ]
  },
  {
   "cell_type": "code",
   "execution_count": 12,
   "metadata": {},
   "outputs": [
    {
     "data": {
      "text/plain": [
       "'1x$7.00 Parlay<br>Max Payout: $ $49.00<br><br>1 Arizona Cardinals +3.5 Spread pore ae<br>Carolina Panthers At Arizona Cafdinals Sep 22, 2019 16:05 eis hoe<br><br>2 435 New York Giants +11.5 Spread<br>New York Giants At Tampa Bay Sep 22, 2019 16:05<br>Buécaneers<br>3° Houston Texans +9.5 Spread<br>Houston Texans At Los Angeles|Chargers © Sep 22, 2019 16:25<br>4° Pittsburgh Steelers +12.5 Spread<br>Pittsburgh Steelers At San Fraqpisco 49ers Sep 22, 2019 16:30<br>5 Los Angeles Rams +2\\\\5 Spread<br>Los Angeles Rams At ClevelandjBrowns Sep 22, 2019 20:20<br>6 Chicago Bears +2 Spread<br>Chicago Bears At Washington Aedskins Sep 23, 2019 20:15'"
      ]
     },
     "execution_count": 12,
     "metadata": {},
     "output_type": "execute_result"
    }
   ],
   "source": [
    "re.sub('\\n', '<br>', test_txt)"
   ]
  },
  {
   "cell_type": "code",
   "execution_count": null,
   "metadata": {},
   "outputs": [],
   "source": []
  }
 ],
 "metadata": {
  "kernelspec": {
   "display_name": "py38",
   "language": "python",
   "name": "py38"
  },
  "language_info": {
   "codemirror_mode": {
    "name": "ipython",
    "version": 3
   },
   "file_extension": ".py",
   "mimetype": "text/x-python",
   "name": "python",
   "nbconvert_exporter": "python",
   "pygments_lexer": "ipython3",
   "version": "3.8.3"
  }
 },
 "nbformat": 4,
 "nbformat_minor": 4
}
